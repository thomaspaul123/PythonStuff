{
 "cells": [
  {
   "cell_type": "code",
   "execution_count": 1,
   "id": "5559a100",
   "metadata": {},
   "outputs": [
    {
     "name": "stdout",
     "output_type": "stream",
     "text": [
      "<class 'int'>\n"
     ]
    }
   ],
   "source": [
    "a=10\n",
    "print(type(a))"
   ]
  },
  {
   "cell_type": "code",
   "execution_count": null,
   "id": "76766276",
   "metadata": {},
   "outputs": [],
   "source": []
  },
  {
   "cell_type": "markdown",
   "id": "2f3e05b1",
   "metadata": {},
   "source": [
    "## Strong Type "
   ]
  },
  {
   "cell_type": "code",
   "execution_count": 2,
   "id": "2e6a3bed",
   "metadata": {},
   "outputs": [
    {
     "data": {
      "text/plain": [
       "'NMCHealthcare'"
      ]
     },
     "execution_count": 2,
     "metadata": {},
     "output_type": "execute_result"
    }
   ],
   "source": [
    "\"NMC\" + \"Healthcare\""
   ]
  },
  {
   "cell_type": "code",
   "execution_count": 3,
   "id": "07f23ea3",
   "metadata": {},
   "outputs": [
    {
     "ename": "TypeError",
     "evalue": "can only concatenate str (not \"int\") to str",
     "output_type": "error",
     "traceback": [
      "\u001b[1;31m---------------------------------------------------------------------------\u001b[0m",
      "\u001b[1;31mTypeError\u001b[0m                                 Traceback (most recent call last)",
      "Input \u001b[1;32mIn [3]\u001b[0m, in \u001b[0;36m<cell line: 1>\u001b[1;34m()\u001b[0m\n\u001b[1;32m----> 1\u001b[0m \u001b[38;5;124;43m\"\u001b[39;49m\u001b[38;5;124;43mNMC\u001b[39;49m\u001b[38;5;124;43m\"\u001b[39;49m\u001b[38;5;241;43m+\u001b[39;49m\u001b[38;5;241;43m1\u001b[39;49m\n",
      "\u001b[1;31mTypeError\u001b[0m: can only concatenate str (not \"int\") to str"
     ]
    }
   ],
   "source": [
    "\"NMC\"+1"
   ]
  },
  {
   "cell_type": "code",
   "execution_count": 4,
   "id": "4c473f39",
   "metadata": {},
   "outputs": [
    {
     "name": "stdout",
     "output_type": "stream",
     "text": [
      "thomas\n",
      "thomas\n"
     ]
    }
   ],
   "source": [
    "s=input()\n",
    "print(s)"
   ]
  },
  {
   "cell_type": "code",
   "execution_count": 6,
   "id": "98f7d2fe",
   "metadata": {},
   "outputs": [
    {
     "name": "stdout",
     "output_type": "stream",
     "text": [
      "Welcome to Power Builder\n"
     ]
    }
   ],
   "source": [
    "lanaguage ='Power Builder'\n",
    "print(\"Welcome to \"+lanaguage)"
   ]
  },
  {
   "cell_type": "code",
   "execution_count": 12,
   "id": "56c849f1",
   "metadata": {},
   "outputs": [
    {
     "name": "stdout",
     "output_type": "stream",
     "text": [
      "Welcome to Power Builder\n"
     ]
    }
   ],
   "source": [
    "lanaguage ='Power Builder'\n",
    "print(f\"Welcome to {lanaguage}\")"
   ]
  },
  {
   "cell_type": "markdown",
   "id": "15b782fe",
   "metadata": {},
   "source": [
    "## OLD Method "
   ]
  },
  {
   "cell_type": "code",
   "execution_count": 13,
   "id": "92f278a8",
   "metadata": {},
   "outputs": [
    {
     "name": "stdout",
     "output_type": "stream",
     "text": [
      "welcome to PB\n"
     ]
    }
   ],
   "source": [
    "language ='PB'\n",
    "print(\"welcome to {}\".format(language))"
   ]
  },
  {
   "cell_type": "markdown",
   "id": "b332f62f",
   "metadata": {},
   "source": [
    "## Boolean Data Type"
   ]
  },
  {
   "cell_type": "code",
   "execution_count": 14,
   "id": "1eff7f00",
   "metadata": {},
   "outputs": [
    {
     "name": "stdout",
     "output_type": "stream",
     "text": [
      "<class 'bool'>\n"
     ]
    }
   ],
   "source": [
    "a=True\n",
    "b=False\n",
    "print(type(a))"
   ]
  },
  {
   "cell_type": "code",
   "execution_count": 25,
   "id": "090ea229",
   "metadata": {},
   "outputs": [
    {
     "name": "stdout",
     "output_type": "stream",
     "text": [
      "false\n"
     ]
    }
   ],
   "source": [
    "a=True\n",
    "b=False\n",
    "if (a==b):\n",
    "    print(\"true\")\n",
    "else:\n",
    "    print(\"false\")\n",
    "    "
   ]
  },
  {
   "cell_type": "code",
   "execution_count": 30,
   "id": "ea99c1b3",
   "metadata": {},
   "outputs": [
    {
     "name": "stdout",
     "output_type": "stream",
     "text": [
      "False\n"
     ]
    }
   ],
   "source": [
    "a=5\n",
    "b=3\n",
    "c= a<b\n",
    "print(c)"
   ]
  },
  {
   "cell_type": "markdown",
   "id": "07134fc0",
   "metadata": {},
   "source": [
    "## User Input"
   ]
  },
  {
   "cell_type": "code",
   "execution_count": 1,
   "id": "c92f304b",
   "metadata": {},
   "outputs": [
    {
     "name": "stdout",
     "output_type": "stream",
     "text": [
      "Enter your Value : 1\n"
     ]
    },
    {
     "data": {
      "text/plain": [
       "'1'"
      ]
     },
     "execution_count": 1,
     "metadata": {},
     "output_type": "execute_result"
    }
   ],
   "source": [
    "input(\"Enter your Value : \")"
   ]
  },
  {
   "cell_type": "code",
   "execution_count": 2,
   "id": "a8160775",
   "metadata": {},
   "outputs": [
    {
     "data": {
      "text/plain": [
       "8"
      ]
     },
     "execution_count": 2,
     "metadata": {},
     "output_type": "execute_result"
    }
   ],
   "source": [
    "2**3"
   ]
  },
  {
   "cell_type": "markdown",
   "id": "f5366a28",
   "metadata": {},
   "source": [
    "## String Methods"
   ]
  },
  {
   "cell_type": "code",
   "execution_count": 3,
   "id": "66281bdc",
   "metadata": {},
   "outputs": [],
   "source": [
    "name = \"thomas\""
   ]
  },
  {
   "cell_type": "code",
   "execution_count": 6,
   "id": "b210f90b",
   "metadata": {},
   "outputs": [
    {
     "data": {
      "text/plain": [
       "'t'"
      ]
     },
     "execution_count": 6,
     "metadata": {},
     "output_type": "execute_result"
    }
   ],
   "source": [
    "name[0]"
   ]
  },
  {
   "cell_type": "code",
   "execution_count": 7,
   "id": "4e7e6221",
   "metadata": {},
   "outputs": [
    {
     "data": {
      "text/plain": [
       "'s'"
      ]
     },
     "execution_count": 7,
     "metadata": {},
     "output_type": "execute_result"
    }
   ],
   "source": [
    "name[-1]"
   ]
  },
  {
   "cell_type": "code",
   "execution_count": 8,
   "id": "db4ce29b",
   "metadata": {},
   "outputs": [
    {
     "data": {
      "text/plain": [
       "'t'"
      ]
     },
     "execution_count": 8,
     "metadata": {},
     "output_type": "execute_result"
    }
   ],
   "source": [
    "name[-0]"
   ]
  },
  {
   "cell_type": "code",
   "execution_count": 9,
   "id": "ee407480",
   "metadata": {},
   "outputs": [
    {
     "data": {
      "text/plain": [
       "'a'"
      ]
     },
     "execution_count": 9,
     "metadata": {},
     "output_type": "execute_result"
    }
   ],
   "source": [
    "name[-2]"
   ]
  },
  {
   "cell_type": "markdown",
   "id": "5bec05ea",
   "metadata": {},
   "source": [
    "## String Slicing "
   ]
  },
  {
   "cell_type": "code",
   "execution_count": 38,
   "id": "8760b953",
   "metadata": {},
   "outputs": [
    {
     "name": "stdout",
     "output_type": "stream",
     "text": [
      "thoma\n",
      "\n"
     ]
    }
   ],
   "source": [
    "name = \"thomas\"\n",
    "len(name)\n",
    "#print(name[0:6])\n",
    "print(name[-6:-1])\n",
    "print(name[-1:-6])"
   ]
  },
  {
   "cell_type": "code",
   "execution_count": 48,
   "id": "dc2d13ae",
   "metadata": {},
   "outputs": [
    {
     "name": "stdout",
     "output_type": "stream",
     "text": [
      "date :21\n",
      "Mon  :10\n",
      "Year :2022\n"
     ]
    }
   ],
   "source": [
    "date=\"21/10/2022\"\n",
    "######01234567890#\n",
    "#######0987654321#\n",
    "print(\"date :\"+ date[0:2])\n",
    "print(\"Mon  :\"+ date[3:5])\n",
    "print(\"Year :\"+ date[6:10])"
   ]
  },
  {
   "cell_type": "code",
   "execution_count": 59,
   "id": "4d33f0fe",
   "metadata": {},
   "outputs": [
    {
     "name": "stdout",
     "output_type": "stream",
     "text": [
      "date :21\n",
      "Mon  :10\n",
      "Year :2022\n"
     ]
    }
   ],
   "source": [
    "date=\"21/10/2022\"\n",
    "######01234567890#\n",
    "#######0987654321#\n",
    "print(\"date :\"+ date[-10:-8])\n",
    "print(\"Mon  :\"+ date[-7:-5])\n",
    "print(\"Year :\"+ date[-4:])"
   ]
  },
  {
   "cell_type": "code",
   "execution_count": 60,
   "id": "47b0bf89",
   "metadata": {},
   "outputs": [
    {
     "name": "stdout",
     "output_type": "stream",
     "text": [
      "t\n",
      "h\n",
      "o\n",
      "m\n",
      "a\n",
      "s\n"
     ]
    }
   ],
   "source": [
    "for i in range(len(name)):\n",
    "    print(name[i])"
   ]
  },
  {
   "cell_type": "code",
   "execution_count": 64,
   "id": "6dc09150",
   "metadata": {},
   "outputs": [
    {
     "name": "stdout",
     "output_type": "stream",
     "text": [
      "Enter Paliandrome String : mama\n",
      "Entered string is a not palinadrome - mama\n"
     ]
    }
   ],
   "source": [
    "data = input(\"Enter Paliandrome String : \")\n",
    "compare_data = data[::-1]\n",
    "if data == compare_data:\n",
    "    print(f\"Entered string is a palinadrome - {data}\")\n",
    "else:\n",
    "    print(f\"Entered string is a not palinadrome - {data}\")"
   ]
  },
  {
   "cell_type": "code",
   "execution_count": 72,
   "id": "afdb86c9",
   "metadata": {},
   "outputs": [
    {
     "data": {
      "text/plain": [
       "'18'"
      ]
     },
     "execution_count": 72,
     "metadata": {},
     "output_type": "execute_result"
    }
   ],
   "source": [
    "v_string=\"12345678\"\n",
    "v_string[0:8:7]"
   ]
  },
  {
   "cell_type": "code",
   "execution_count": 68,
   "id": "823d45dc",
   "metadata": {},
   "outputs": [
    {
     "data": {
      "text/plain": [
       "'87654321'"
      ]
     },
     "execution_count": 68,
     "metadata": {},
     "output_type": "execute_result"
    }
   ],
   "source": [
    "v_string=\"12345678\"\n",
    "v_string[-1::-1]"
   ]
  },
  {
   "cell_type": "code",
   "execution_count": 76,
   "id": "789aafe2",
   "metadata": {},
   "outputs": [
    {
     "data": {
      "text/plain": [
       "'ardnahc neevahb ynnus'"
      ]
     },
     "execution_count": 76,
     "metadata": {},
     "output_type": "execute_result"
    }
   ],
   "source": [
    "name ='sunny bhaveen chandra'\n",
    "name[::-1]"
   ]
  },
  {
   "cell_type": "markdown",
   "id": "4e569796",
   "metadata": {},
   "source": [
    "## Mutability - Mutable means subjects to change \n"
   ]
  },
  {
   "cell_type": "code",
   "execution_count": 78,
   "id": "76fd0f50",
   "metadata": {},
   "outputs": [
    {
     "data": {
      "text/plain": [
       "'fhomas'"
      ]
     },
     "execution_count": 78,
     "metadata": {},
     "output_type": "execute_result"
    }
   ],
   "source": [
    "name=\"thomas\"\n",
    "# Replace t with F ?\n",
    "name.replace(\"t\",\"f\")"
   ]
  },
  {
   "cell_type": "code",
   "execution_count": 83,
   "id": "3f522ed9",
   "metadata": {},
   "outputs": [
    {
     "data": {
      "text/plain": [
       "6"
      ]
     },
     "execution_count": 83,
     "metadata": {},
     "output_type": "execute_result"
    }
   ],
   "source": [
    "len(\"thomas  \".replace(\" \",\"\") )"
   ]
  },
  {
   "cell_type": "code",
   "execution_count": 1,
   "id": "236cbfe6",
   "metadata": {},
   "outputs": [
    {
     "data": {
      "text/plain": [
       "5"
      ]
     },
     "execution_count": 1,
     "metadata": {},
     "output_type": "execute_result"
    }
   ],
   "source": [
    "name =\"     \"\n",
    "len(name)"
   ]
  },
  {
   "cell_type": "code",
   "execution_count": 2,
   "id": "0b535eaa",
   "metadata": {},
   "outputs": [
    {
     "data": {
      "text/plain": [
       "11"
      ]
     },
     "execution_count": 2,
     "metadata": {},
     "output_type": "execute_result"
    }
   ],
   "source": [
    "name =\"     thomas\"\n",
    "len(name)"
   ]
  },
  {
   "cell_type": "code",
   "execution_count": 4,
   "id": "90980954",
   "metadata": {},
   "outputs": [
    {
     "name": "stdout",
     "output_type": "stream",
     "text": [
      "['13', '12', '1984']\n"
     ]
    }
   ],
   "source": [
    "dob= \"13/12/1984\"\n",
    "dates = dob.split(\"/\")\n",
    "print(dates)"
   ]
  },
  {
   "cell_type": "markdown",
   "id": "15ab61d1",
   "metadata": {},
   "source": [
    "## Control Flow Statement"
   ]
  },
  {
   "cell_type": "code",
   "execution_count": 34,
   "id": "a4595b51",
   "metadata": {},
   "outputs": [
    {
     "name": "stdout",
     "output_type": "stream",
     "text": [
      "Enter the total amount for the Bill   100\n",
      "Gross Amount : 100.0 Discount Applied : 0 Net Total : 100.0\n"
     ]
    }
   ],
   "source": [
    "totalamount =float(input(\"Enter the total amount for the Bill   \"))\n",
    "\n",
    "if totalamount >= 500 and totalamount <= 999.99:\n",
    "    print(f\"Gross Amount : {totalamount} Discount Applied : {10} Net Total : { (totalamount - (totalamount*(10)/100)) }\" )\n",
    "elif totalamount>= 1000:\n",
    "    print(f\"Gross Amount : {totalamount} Discount Applied : {20} Net Total : { (totalamount - (totalamount*(20)/100)) }\" )\n",
    "else:\n",
    "    print(f\"Gross Amount : {totalamount} Discount Applied : {0} Net Total : { (totalamount - (totalamount*(0)/100)) }\" )"
   ]
  },
  {
   "cell_type": "markdown",
   "id": "39ff1ceb",
   "metadata": {},
   "source": [
    "## Nested if else"
   ]
  },
  {
   "cell_type": "code",
   "execution_count": 39,
   "id": "bfb2eef8",
   "metadata": {},
   "outputs": [
    {
     "name": "stdout",
     "output_type": "stream",
     "text": [
      "Enter your amount : 1\n",
      "Amount is Greater than Zero\n"
     ]
    }
   ],
   "source": [
    "amount=int(input(\"Enter your amount : \"))\n",
    "if amount>= 0:\n",
    "    if amount==0:\n",
    "        print(\"Amount is Zero\")\n",
    "    else:\n",
    "        print(\"Amount is Greater than Zero\")\n",
    "else:\n",
    "    print(\"Amount is Negative\")\n"
   ]
  },
  {
   "cell_type": "markdown",
   "id": "121cf438",
   "metadata": {},
   "source": [
    "## Single Line If Else "
   ]
  },
  {
   "cell_type": "code",
   "execution_count": 2,
   "id": "f9a2143e",
   "metadata": {},
   "outputs": [
    {
     "name": "stdout",
     "output_type": "stream",
     "text": [
      "Enter the Number greater than 100 : 100\n",
      "More than 100\n"
     ]
    }
   ],
   "source": [
    "num = float(input(\"Enter the Number greater than 100 : \"))\n",
    "if num >=100 : print('More than 100')\n"
   ]
  },
  {
   "cell_type": "code",
   "execution_count": 2,
   "id": "4288d7bb",
   "metadata": {},
   "outputs": [
    {
     "name": "stdout",
     "output_type": "stream",
     "text": [
      "Enter the Number greater than 100 : 99\n",
      "NO\n"
     ]
    }
   ],
   "source": [
    "num = float(input(\"Enter the Number greater than 100 : \"))\n",
    "print(\"Yes\" if num > 100 else \"NO\")"
   ]
  },
  {
   "cell_type": "markdown",
   "id": "d1db21bd",
   "metadata": {},
   "source": [
    "## While Loop , For Loop Loop Control , Break , continue , Pass Nested Loop"
   ]
  },
  {
   "cell_type": "code",
   "execution_count": 6,
   "id": "b8224240",
   "metadata": {},
   "outputs": [
    {
     "name": "stdout",
     "output_type": "stream",
     "text": [
      "Not Scored beyond cutoff 100\n",
      "Not Scored beyond cutoff 300\n",
      "Not Scored beyond cutoff 499\n",
      "Not Scored beyond cutoff 599\n",
      "Not Scored beyond cutoff 600\n"
     ]
    }
   ],
   "source": [
    "total_marks =1000\n",
    "cutoff =600\n",
    "scores =[100,300,499,599,600,1000]\n",
    "year= 0 \n",
    "while (scores[year]<=cutoff):\n",
    "    print(\"Not Scored beyond cutoff \"+str(scores[year]))\n",
    "    year=year+1 "
   ]
  },
  {
   "cell_type": "code",
   "execution_count": 9,
   "id": "f74f182b",
   "metadata": {},
   "outputs": [
    {
     "name": "stdout",
     "output_type": "stream",
     "text": [
      "0\n",
      "1\n",
      "2\n",
      "3\n",
      "4\n",
      "5\n",
      "6\n",
      "7\n",
      "8\n",
      "9\n"
     ]
    }
   ],
   "source": [
    "counter=0 \n",
    "while ( counter<10):\n",
    "    print(counter)\n",
    "    counter=counter+1"
   ]
  },
  {
   "cell_type": "markdown",
   "id": "de8c74f4",
   "metadata": {},
   "source": [
    "## Python List"
   ]
  },
  {
   "cell_type": "code",
   "execution_count": 2,
   "id": "4ff95234",
   "metadata": {},
   "outputs": [
    {
     "name": "stdout",
     "output_type": "stream",
     "text": [
      "1\n",
      "thomas\n",
      "2.3\n"
     ]
    }
   ],
   "source": [
    "list_sample =[1,\"thomas\",2.3]\n",
    "type(list_sample)\n",
    "for element in list_sample:\n",
    "    print(element)"
   ]
  },
  {
   "cell_type": "code",
   "execution_count": 10,
   "id": "b83c0098",
   "metadata": {},
   "outputs": [
    {
     "name": "stdout",
     "output_type": "stream",
     "text": [
      "<class 'int'>\n",
      "<class 'str'>\n",
      "<class 'float'>\n"
     ]
    }
   ],
   "source": [
    "list_sample =[1,\"thomas\",2.3]\n",
    "for i in range(len(list_sample)):\n",
    "    print(type(list_sample[i]))"
   ]
  }
 ],
 "metadata": {
  "kernelspec": {
   "display_name": "Python 3 (ipykernel)",
   "language": "python",
   "name": "python3"
  },
  "language_info": {
   "codemirror_mode": {
    "name": "ipython",
    "version": 3
   },
   "file_extension": ".py",
   "mimetype": "text/x-python",
   "name": "python",
   "nbconvert_exporter": "python",
   "pygments_lexer": "ipython3",
   "version": "3.9.12"
  }
 },
 "nbformat": 4,
 "nbformat_minor": 5
}
